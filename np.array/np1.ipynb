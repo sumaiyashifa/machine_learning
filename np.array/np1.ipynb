{
 "cells": [
  {
   "cell_type": "code",
   "execution_count": 7,
   "id": "3d0ba2ae",
   "metadata": {},
   "outputs": [
    {
     "name": "stdout",
     "output_type": "stream",
     "text": [
      "[1 2 3 4]\n",
      "1\n",
      "[[1 2 3 4]\n",
      " [3 4 5 6]]\n",
      "2\n"
     ]
    }
   ],
   "source": [
    "import numpy as np\n",
    "y=np.array([1,2,3,4])\n",
    "print(y)\n",
    "print(y.ndim)\n",
    "ya=np.array([[1,2,3,4],[3,4,5,6]])\n",
    "print(ya)\n",
    "print(ya.ndim)"
   ]
  },
  {
   "cell_type": "markdown",
   "id": "9e230792",
   "metadata": {},
   "source": [
    "list k array banailam\n",
    "\n",
    "2 dimention er khetre protita 1d array er size same hobe"
   ]
  },
  {
   "cell_type": "code",
   "execution_count": 4,
   "id": "0d0e1a40",
   "metadata": {},
   "outputs": [
    {
     "name": "stdout",
     "output_type": "stream",
     "text": [
      "12\n",
      "12\n",
      "45\n",
      "3\n",
      "[12 12 45  3]\n"
     ]
    }
   ],
   "source": [
    "a=[]\n",
    "for i in range(1,5):\n",
    "    int_a=int(input(\"enter: \"))\n",
    "    a.append(int_a)\n",
    "print(np.array(a))"
   ]
  },
  {
   "cell_type": "code",
   "execution_count": 10,
   "id": "e24aae94",
   "metadata": {},
   "outputs": [
    {
     "name": "stdout",
     "output_type": "stream",
     "text": [
      "[0. 0. 0. 0.]\n",
      "[[0. 0. 0.]\n",
      " [0. 0. 0.]\n",
      " [0. 0. 0.]\n",
      " [0. 0. 0.]]\n"
     ]
    }
   ],
   "source": [
    "z1=np.zeros(4)\n",
    "z2=np.zeros((4,3))\n",
    "print(z1)\n",
    "print(z2)\n"
   ]
  },
  {
   "cell_type": "markdown",
   "id": "1b9a26a2",
   "metadata": {},
   "source": [
    "# ones"
   ]
  },
  {
   "cell_type": "code",
   "execution_count": 11,
   "id": "b542c0ef",
   "metadata": {},
   "outputs": [
    {
     "name": "stdout",
     "output_type": "stream",
     "text": [
      "[1. 1. 1. 1.]\n",
      "[[1. 1. 1.]\n",
      " [1. 1. 1.]\n",
      " [1. 1. 1.]\n",
      " [1. 1. 1.]]\n"
     ]
    }
   ],
   "source": [
    "z1=np.ones(4)\n",
    "z2=np.ones((4,3))\n",
    "print(z1)\n",
    "print(z2)\n"
   ]
  },
  {
   "cell_type": "markdown",
   "id": "9caa62bb",
   "metadata": {},
   "source": [
    "# empty"
   ]
  },
  {
   "cell_type": "code",
   "execution_count": 12,
   "id": "160fec84",
   "metadata": {},
   "outputs": [
    {
     "name": "stdout",
     "output_type": "stream",
     "text": [
      "[1. 1. 1. 1.]\n"
     ]
    }
   ],
   "source": [
    "z1=np.empty(4)\n",
    "\n",
    "print(z1)\n",
    "\n"
   ]
  },
  {
   "cell_type": "code",
   "execution_count": 13,
   "id": "37ff4676",
   "metadata": {},
   "outputs": [
    {
     "name": "stdout",
     "output_type": "stream",
     "text": [
      "[0 1 2 3]\n"
     ]
    }
   ],
   "source": [
    "z1=np.arange(4)\n",
    "\n",
    "print(z1)"
   ]
  },
  {
   "cell_type": "markdown",
   "id": "01d04733",
   "metadata": {},
   "source": [
    "# Diagonal"
   ]
  },
  {
   "cell_type": "code",
   "execution_count": 14,
   "id": "518e3fc4",
   "metadata": {},
   "outputs": [
    {
     "name": "stdout",
     "output_type": "stream",
     "text": [
      "[[1. 0. 0. 0.]\n",
      " [0. 1. 0. 0.]\n",
      " [0. 0. 1. 0.]\n",
      " [0. 0. 0. 1.]]\n"
     ]
    }
   ],
   "source": [
    "z1=np.eye(4)\n",
    "\n",
    "print(z1)"
   ]
  },
  {
   "cell_type": "code",
   "execution_count": 16,
   "id": "a812098c",
   "metadata": {},
   "outputs": [
    {
     "name": "stdout",
     "output_type": "stream",
     "text": [
      "[[1. 0. 0.]\n",
      " [0. 1. 0.]\n",
      " [0. 0. 1.]\n",
      " [0. 0. 0.]]\n"
     ]
    }
   ],
   "source": [
    "z1=np.eye(4,3)\n",
    "\n",
    "print(z1)"
   ]
  },
  {
   "cell_type": "markdown",
   "id": "2c1e9f80",
   "metadata": {},
   "source": [
    "# linspace"
   ]
  },
  {
   "cell_type": "code",
   "execution_count": 18,
   "id": "fe89d62f",
   "metadata": {},
   "outputs": [
    {
     "name": "stdout",
     "output_type": "stream",
     "text": [
      "[ 0.  5. 10. 15. 20.]\n"
     ]
    }
   ],
   "source": [
    "z1=np.linspace(0,20,num=5)\n",
    "\n",
    "print(z1)"
   ]
  },
  {
   "cell_type": "markdown",
   "id": "05920485",
   "metadata": {},
   "source": [
    "# Random\n",
    "rand()\n",
    "\n",
    "just positve value dei"
   ]
  },
  {
   "cell_type": "code",
   "execution_count": 20,
   "id": "f2ccd711",
   "metadata": {},
   "outputs": [
    {
     "name": "stdout",
     "output_type": "stream",
     "text": [
      "[0.68702684 0.71806313 0.37284612 0.1677721  0.24462977]\n",
      "[[0.30673807 0.56304341 0.67619754 0.84496386 0.23876741]\n",
      " [0.9529687  0.20413895 0.82459464 0.99978414 0.04595354]]\n"
     ]
    }
   ],
   "source": [
    "z1=np.random.rand(5)\n",
    "\n",
    "print(z1)\n",
    "z2=np.random.rand(2,5)\n",
    "\n",
    "print(z2)"
   ]
  },
  {
   "cell_type": "markdown",
   "id": "94ef0c31",
   "metadata": {},
   "source": [
    "# randn \n",
    "negitavie + duitai dei"
   ]
  },
  {
   "cell_type": "markdown",
   "id": "7de5a41c",
   "metadata": {},
   "source": [
    "# ranf()\n",
    "0 k include korbe but 1 k na r value 1 er kasakasi hobe"
   ]
  },
  {
   "cell_type": "code",
   "execution_count": 21,
   "id": "7bd07288",
   "metadata": {},
   "outputs": [
    {
     "name": "stdout",
     "output_type": "stream",
     "text": [
      "[0.38111464 0.478576   0.16693288 0.29433941 0.83121507]\n"
     ]
    }
   ],
   "source": [
    "z1=np.random.ranf(5)\n",
    "\n",
    "print(z1)"
   ]
  },
  {
   "cell_type": "markdown",
   "id": "a8fbb668",
   "metadata": {},
   "source": [
    "# randint\n",
    "(min,max,total number)"
   ]
  },
  {
   "cell_type": "code",
   "execution_count": 22,
   "id": "73bc2827",
   "metadata": {},
   "outputs": [
    {
     "name": "stdout",
     "output_type": "stream",
     "text": [
      "[13 15 16  9  5]\n"
     ]
    }
   ],
   "source": [
    "z1=np.random.randint(5,20,5)\n",
    "\n",
    "print(z1)"
   ]
  },
  {
   "cell_type": "markdown",
   "id": "8ef8fc29",
   "metadata": {},
   "source": [
    "Datatype"
   ]
  },
  {
   "cell_type": "code",
   "execution_count": 1,
   "id": "95f6e981",
   "metadata": {},
   "outputs": [
    {
     "name": "stdout",
     "output_type": "stream",
     "text": [
      "datatype:  <U1\n"
     ]
    }
   ],
   "source": [
    "import numpy as np\n",
    "var=np.array([\"a\",\"b\"])\n",
    "print(\"datatype: \",var.dtype)"
   ]
  },
  {
   "cell_type": "code",
   "execution_count": 2,
   "id": "36f0680b",
   "metadata": {},
   "outputs": [
    {
     "name": "stdout",
     "output_type": "stream",
     "text": [
      "datatype:  float64\n"
     ]
    }
   ],
   "source": [
    "import numpy as np\n",
    "var=np.array([1.1,2.2])\n",
    "print(\"datatype: \",var.dtype)"
   ]
  },
  {
   "cell_type": "code",
   "execution_count": 4,
   "id": "3cf1c3c7",
   "metadata": {},
   "outputs": [
    {
     "name": "stdout",
     "output_type": "stream",
     "text": [
      "datatype:  int8\n",
      "[1 2]\n"
     ]
    }
   ],
   "source": [
    "var=np.array([1.1,2.2],dtype=np.int8)\n",
    "print(\"datatype: \",var.dtype)\n",
    "print(var)"
   ]
  },
  {
   "cell_type": "code",
   "execution_count": 6,
   "id": "80c5166f",
   "metadata": {},
   "outputs": [
    {
     "name": "stdout",
     "output_type": "stream",
     "text": [
      "datatype:  float32\n",
      "[1. 2.]\n"
     ]
    }
   ],
   "source": [
    "var=np.array([1,2],dtype=\"f\")\n",
    "print(\"datatype: \",var.dtype)\n",
    "print(var)"
   ]
  },
  {
   "cell_type": "code",
   "execution_count": 8,
   "id": "f371fe1b",
   "metadata": {},
   "outputs": [
    {
     "name": "stdout",
     "output_type": "stream",
     "text": [
      "datatype:  int32\n",
      "datatype:  float32\n",
      "[1 2]\n",
      "[1. 2.]\n"
     ]
    }
   ],
   "source": [
    "var=np.array([1,2])\n",
    "var2=np.float32(var)\n",
    "print(\"datatype: \",var.dtype)\n",
    "print(\"datatype: \",var2.dtype)\n",
    "print(var)\n",
    "print(var2)"
   ]
  },
  {
   "cell_type": "code",
   "execution_count": 9,
   "id": "4c05f7dd",
   "metadata": {},
   "outputs": [
    {
     "name": "stdout",
     "output_type": "stream",
     "text": [
      "datatype:  int32\n",
      "datatype:  float64\n",
      "[1 2]\n",
      "[1. 2.]\n"
     ]
    }
   ],
   "source": [
    "var=np.array([1,2])\n",
    "var2=var.astype(float)\n",
    "print(\"datatype: \",var.dtype)\n",
    "print(\"datatype: \",var2.dtype)\n",
    "print(var)\n",
    "print(var2)"
   ]
  },
  {
   "cell_type": "markdown",
   "id": "60f0689b",
   "metadata": {},
   "source": [
    "# Arithematic operation\n"
   ]
  },
  {
   "cell_type": "code",
   "execution_count": 10,
   "id": "5d791dcb",
   "metadata": {},
   "outputs": [
    {
     "name": "stdout",
     "output_type": "stream",
     "text": [
      "[0.33333333 0.66666667 1.         1.33333333]\n"
     ]
    }
   ],
   "source": [
    "import numpy as np\n",
    "var=np.array([1,2,3,4])\n",
    "v1=var/3\n",
    "print(v1)"
   ]
  },
  {
   "cell_type": "markdown",
   "id": "be919d88",
   "metadata": {},
   "source": [
    "+,-,* ,% same vabe hobe"
   ]
  },
  {
   "cell_type": "code",
   "execution_count": 11,
   "id": "1dbc9597",
   "metadata": {},
   "outputs": [
    {
     "name": "stdout",
     "output_type": "stream",
     "text": [
      "[2 4 6 8]\n"
     ]
    }
   ],
   "source": [
    "var=np.array([1,2,3,4])\n",
    "var2=np.array([1,2,3,4])\n",
    "v33=var+var2\n",
    "print(v33)"
   ]
  },
  {
   "cell_type": "markdown",
   "id": "47f9abb8",
   "metadata": {},
   "source": [
    "same kaj np.add(a,b)//var,3/var,var2\n",
    "np.subtract,sqrt,multiply,divide,mod,power.reciprocal(a)\n"
   ]
  },
  {
   "cell_type": "code",
   "execution_count": 13,
   "id": "7351fea0",
   "metadata": {},
   "outputs": [
    {
     "name": "stdout",
     "output_type": "stream",
     "text": [
      "[1 0 0 0]\n"
     ]
    }
   ],
   "source": [
    "var=np.array([1,2,3,4])\n",
    "v1=np.reciprocal(var)\n",
    "print(v1)"
   ]
  },
  {
   "cell_type": "markdown",
   "id": "c5d4a89e",
   "metadata": {},
   "source": [
    "## 2d array"
   ]
  },
  {
   "cell_type": "code",
   "execution_count": 12,
   "id": "d33800d2",
   "metadata": {},
   "outputs": [
    {
     "name": "stdout",
     "output_type": "stream",
     "text": [
      "[[2 4 6 8]\n",
      " [2 4 6 8]]\n"
     ]
    }
   ],
   "source": [
    "var=np.array([[1,2,3,4],[1,2,3,4]])\n",
    "var2=np.array([[1,2,3,4],[1,2,3,4]])\n",
    "v33=var+var2\n",
    "print(v33)"
   ]
  },
  {
   "cell_type": "code",
   "execution_count": 16,
   "id": "a95216e5",
   "metadata": {},
   "outputs": [
    {
     "name": "stdout",
     "output_type": "stream",
     "text": [
      "min:  3 2\n"
     ]
    }
   ],
   "source": [
    "var=np.array([7,6,3,4])\n",
    "print(\"min: \",np.min(var),np.argmin(var))"
   ]
  },
  {
   "cell_type": "markdown",
   "id": "6c28fd08",
   "metadata": {},
   "source": [
    "axis=0 column borabor min value"
   ]
  },
  {
   "cell_type": "markdown",
   "id": "6f8f266e",
   "metadata": {},
   "source": [
    "axis=1 row borabor min value"
   ]
  },
  {
   "cell_type": "code",
   "execution_count": 19,
   "id": "567ad898",
   "metadata": {},
   "outputs": [
    {
     "name": "stdout",
     "output_type": "stream",
     "text": [
      "[1 2 2 4]\n"
     ]
    }
   ],
   "source": [
    "var=np.array([[1,2,3,4],[14,6,2,7]])\n",
    "print(np.min(var,axis=0))"
   ]
  },
  {
   "cell_type": "code",
   "execution_count": 21,
   "id": "5ba35f7c",
   "metadata": {},
   "outputs": [
    {
     "name": "stdout",
     "output_type": "stream",
     "text": [
      "[1 2]\n"
     ]
    }
   ],
   "source": [
    "var=np.array([[1,2,3,4],[14,6,2,7]])\n",
    "print(np.min(var,axis=1))"
   ]
  },
  {
   "cell_type": "code",
   "execution_count": 23,
   "id": "7fad65b3",
   "metadata": {},
   "outputs": [
    {
     "name": "stdout",
     "output_type": "stream",
     "text": [
      "[ 0.84147098  0.90929743  0.14112001 -0.7568025 ]\n",
      "[ 1  3  6 10]\n"
     ]
    }
   ],
   "source": [
    "var=np.array([1,2,3,4])\n",
    "v1=np.sin(var)\n",
    "print(v1)\n",
    "print(np.cumsum(var))"
   ]
  },
  {
   "cell_type": "markdown",
   "id": "895aa203",
   "metadata": {},
   "source": [
    "# shape"
   ]
  },
  {
   "cell_type": "code",
   "execution_count": 26,
   "id": "807b8c59",
   "metadata": {},
   "outputs": [
    {
     "name": "stdout",
     "output_type": "stream",
     "text": [
      "(2, 4)\n"
     ]
    }
   ],
   "source": [
    "var=np.array([[1,2,3,4],[1,2,3,4]])\n",
    "print(var.shape)"
   ]
  },
  {
   "cell_type": "code",
   "execution_count": 28,
   "id": "65713d1a",
   "metadata": {},
   "outputs": [
    {
     "name": "stdout",
     "output_type": "stream",
     "text": [
      "(1, 1, 1, 4)\n",
      "[[[[1 2 3 4]]]]\n"
     ]
    }
   ],
   "source": [
    "var=np.array([1,2,3,4],ndmin=4)\n",
    "print(var.shape)\n",
    "print(var)"
   ]
  },
  {
   "cell_type": "markdown",
   "id": "409b7219",
   "metadata": {},
   "source": [
    "3 row 4 column"
   ]
  },
  {
   "cell_type": "code",
   "execution_count": 31,
   "id": "0a3da6bc",
   "metadata": {},
   "outputs": [
    {
     "name": "stdout",
     "output_type": "stream",
     "text": [
      "[[1 2 3]\n",
      " [4 5 6]\n",
      " [7 8 9]]\n",
      "\n",
      "[1 2 3 4 5 6 7 8 9]\n"
     ]
    }
   ],
   "source": [
    "##reshape\n",
    "var=np.array([1,2,3,4,5,6,7,8,9])\n",
    "xa=var.reshape(3,3)\n",
    "print(xa)\n",
    "print()\n",
    "one=xa.reshape(-1)\n",
    "print(one)\n"
   ]
  },
  {
   "cell_type": "code",
   "execution_count": 34,
   "id": "6840ebde",
   "metadata": {},
   "outputs": [
    {
     "name": "stdout",
     "output_type": "stream",
     "text": [
      "[[2 3 4 5]\n",
      " [3 4 5 6]\n",
      " [4 5 6 7]]\n"
     ]
    }
   ],
   "source": [
    "var=np.array([1,2,3,4])\n",
    "var1=np.array([1,2,3])\n",
    "##print(var+var1) dile broadcasting error dibe bcz dim same na\n",
    "var2=np.array([[1],[2],[3]])\n",
    "print(var+var2)\n",
    "##(1,3) (3,1) // 3,3 and 1,1 milse tai addition hose .diff hoile hoito na addition\n",
    "##(2,1) (2,3) // addition er por (2,3) matrix hobe .max nei"
   ]
  },
  {
   "cell_type": "markdown",
   "id": "a15f4da5",
   "metadata": {},
   "source": [
    "# indexing"
   ]
  },
  {
   "cell_type": "code",
   "execution_count": 35,
   "id": "563c0ae4",
   "metadata": {},
   "outputs": [
    {
     "name": "stdout",
     "output_type": "stream",
     "text": [
      "4\n"
     ]
    }
   ],
   "source": [
    "var=np.array([1,2,3,4])\n",
    "print(var[-1])"
   ]
  },
  {
   "cell_type": "code",
   "execution_count": 36,
   "id": "70072f62",
   "metadata": {},
   "outputs": [
    {
     "name": "stdout",
     "output_type": "stream",
     "text": [
      "3\n"
     ]
    }
   ],
   "source": [
    "var=np.array([[1,2,3,4],[1,2,3,4]])\n",
    "print(var[0,2])"
   ]
  },
  {
   "cell_type": "code",
   "execution_count": 37,
   "id": "adc38081",
   "metadata": {},
   "outputs": [
    {
     "name": "stdout",
     "output_type": "stream",
     "text": [
      "4\n"
     ]
    }
   ],
   "source": [
    "var=np.array([[[1,2,3,4],[1,2,3,4]]])\n",
    "print(var[0,1,3])"
   ]
  },
  {
   "cell_type": "code",
   "execution_count": 39,
   "id": "06f36808",
   "metadata": {},
   "outputs": [
    {
     "name": "stdout",
     "output_type": "stream",
     "text": [
      "2 to 5:  [2 3 4 5]\n",
      "2 to end:  [2 3 4 5 6 7 8 9]\n",
      "start to 5:  [1 2 3 4 5]\n",
      "stop:  [1 3 5 7 9]\n",
      "stop:  [2 4]\n"
     ]
    }
   ],
   "source": [
    "#slicing\n",
    "var=np.array([1,2,3,4,5,6,7,8,9])\n",
    "print(\"2 to 5: \",var[1:5])\n",
    "print(\"2 to end: \",var[1:])\n",
    "print(\"start to 5: \",var[:5])\n",
    "#starti,endi,step\n",
    "print(\"stop: \",var[::2])\n",
    "print(\"stop: \",var[1:5:2])"
   ]
  },
  {
   "cell_type": "code",
   "execution_count": 40,
   "id": "66f00640",
   "metadata": {},
   "outputs": [
    {
     "name": "stdout",
     "output_type": "stream",
     "text": [
      "2 to 6:  [2 7 6]\n"
     ]
    }
   ],
   "source": [
    "var=np.array([[1,2,3,4],[1,2,7,6],[3,5,6,7]])\n",
    "print(\"2 to 6: \",var[1,1:])"
   ]
  },
  {
   "cell_type": "markdown",
   "id": "e183ed8a",
   "metadata": {},
   "source": [
    "# iteration\n"
   ]
  },
  {
   "cell_type": "code",
   "execution_count": 43,
   "id": "4452f74b",
   "metadata": {},
   "outputs": [
    {
     "name": "stdout",
     "output_type": "stream",
     "text": [
      "1\n",
      "2\n",
      "3\n",
      "4\n",
      "1\n",
      "2\n",
      "3\n",
      "4\n",
      "\n",
      "1\n",
      "2\n",
      "3\n",
      "4\n",
      "1\n",
      "2\n",
      "3\n",
      "4\n"
     ]
    }
   ],
   "source": [
    "var=np.array([[[1,2,3,4],[1,2,3,4]]])\n",
    "for i in var:\n",
    "    for j in i:\n",
    "        for k in j:\n",
    "            print(k)\n",
    "print()          \n",
    "#same kaj kora jai nditer diye\n",
    "for i in np.nditer(var):\n",
    "    print(i)"
   ]
  },
  {
   "cell_type": "code",
   "execution_count": 45,
   "id": "963dc341",
   "metadata": {},
   "outputs": [
    {
     "name": "stdout",
     "output_type": "stream",
     "text": [
      "(0, 0, 0) 1\n",
      "(0, 0, 1) 2\n",
      "(0, 0, 2) 3\n",
      "(0, 0, 3) 4\n",
      "(0, 1, 0) 1\n",
      "(0, 1, 1) 2\n",
      "(0, 1, 2) 3\n",
      "(0, 1, 3) 4\n"
     ]
    }
   ],
   "source": [
    "var=np.array([[[1,2,3,4],[1,2,3,4]]])\n",
    "#index+data\n",
    "for i,d in np.ndenumerate(var):\n",
    "    print(i,d)"
   ]
  },
  {
   "cell_type": "markdown",
   "id": "109b9cbd",
   "metadata": {},
   "source": [
    "# copy vs view"
   ]
  },
  {
   "cell_type": "code",
   "execution_count": 49,
   "id": "870383d6",
   "metadata": {},
   "outputs": [
    {
     "name": "stdout",
     "output_type": "stream",
     "text": [
      "[ 1 40  3  4  5  6  7  8  9]\n",
      "[1 2 3 4 5 6 7 8 9]\n",
      "[ 1 40  3  4  5  6  7  8  9]\n"
     ]
    }
   ],
   "source": [
    "var=np.array([1,2,3,4,5,6,7,8,9])\n",
    "\n",
    "c=var.copy()\n",
    "var[1]=40\n",
    "v=var.view()\n",
    "print(var)\n",
    "print(c)\n",
    "print(v)\n",
    "# view change hoi ,copy hoi na"
   ]
  },
  {
   "cell_type": "markdown",
   "id": "7883f8a0",
   "metadata": {},
   "source": [
    "# join array"
   ]
  },
  {
   "cell_type": "code",
   "execution_count": 54,
   "id": "f0ae99b6",
   "metadata": {},
   "outputs": [
    {
     "name": "stdout",
     "output_type": "stream",
     "text": [
      "[1 2 3 4 5 6 7 8 9]\n"
     ]
    }
   ],
   "source": [
    "var=np.array([1,2,3,4])\n",
    "var2=np.array([5,6,7,8,9])\n",
    "new=np.concatenate((var,var2))\n",
    "print(new)"
   ]
  },
  {
   "cell_type": "code",
   "execution_count": 58,
   "id": "ddf6f627",
   "metadata": {},
   "outputs": [
    {
     "name": "stdout",
     "output_type": "stream",
     "text": [
      "[[1 2 3 4]\n",
      " [1 2 3 4]\n",
      " [1 2 3 4]\n",
      " [1 2 3 4]]\n",
      "\n",
      "[[1 2 3 4 1 2 3 4]\n",
      " [1 2 3 4 1 2 3 4]]\n"
     ]
    }
   ],
   "source": [
    "var=np.array([[1,2,3,4],[1,2,3,4]])\n",
    "var2=np.array([[1,2,3,4],[1,2,3,4]])\n",
    "new=np.concatenate((var,var2),axis=0)\n",
    "new1=np.concatenate((var,var2),axis=1)\n",
    "print(new)\n",
    "print()\n",
    "print(new1)"
   ]
  },
  {
   "cell_type": "code",
   "execution_count": 4,
   "id": "ed96231d",
   "metadata": {},
   "outputs": [
    {
     "name": "stdout",
     "output_type": "stream",
     "text": [
      "[[1 5]\n",
      " [2 6]\n",
      " [3 7]\n",
      " [4 8]]\n",
      "\n",
      "[1 2 3 4 5 6 7 8]\n",
      "\n",
      "[[1 2 3 4]\n",
      " [5 6 7 8]]\n",
      "\n",
      "[[[1 5]\n",
      "  [2 6]\n",
      "  [3 7]\n",
      "  [4 8]]]\n",
      "\n"
     ]
    }
   ],
   "source": [
    "import numpy as np\n",
    "var=np.array([1,2,3,4])\n",
    "var2=np.array([5,6,7,8])\n",
    "new=np.stack((var,var2),axis=1) \n",
    "new1=np.hstack((var,var2)) #row\n",
    "new2=np.vstack((var,var2)) #column\n",
    "new3=np.dstack((var,var2)) #height\n",
    "print(new)\n",
    "print()\n",
    "print(new1)\n",
    "print()\n",
    "print(new2)\n",
    "print()\n",
    "print(new3)\n",
    "print()"
   ]
  },
  {
   "cell_type": "markdown",
   "id": "d39beace",
   "metadata": {},
   "source": [
    "#    split array"
   ]
  },
  {
   "cell_type": "code",
   "execution_count": 7,
   "id": "bc4d8c10",
   "metadata": {},
   "outputs": [
    {
     "name": "stdout",
     "output_type": "stream",
     "text": [
      "[array([1, 2, 3]), array([4, 5, 6]), array([7, 8, 9])]\n",
      "[1 2 3]\n"
     ]
    }
   ],
   "source": [
    "var=np.array([1,2,3,4,5,6,7,8,9])\n",
    "\n",
    "c=np.array_split(var,3)\n",
    "print(c)\n",
    "print(c[0])"
   ]
  },
  {
   "cell_type": "code",
   "execution_count": 10,
   "id": "be106838",
   "metadata": {},
   "outputs": [
    {
     "name": "stdout",
     "output_type": "stream",
     "text": [
      "[array([[1, 2, 3]]), array([[4, 5, 6]]), array([[7, 8, 9]])]\n",
      "[array([[1],\n",
      "       [4],\n",
      "       [7]]), array([[2],\n",
      "       [5],\n",
      "       [8]]), array([[3],\n",
      "       [6],\n",
      "       [9]])]\n"
     ]
    }
   ],
   "source": [
    "var=np.array([[1,2,3],[4,5,6],[7,8,9]])\n",
    "\n",
    "c=np.array_split(var,3)\n",
    "c1=np.array_split(var,3,axis=1)\n",
    "print(c)\n",
    "print(c1)"
   ]
  },
  {
   "cell_type": "markdown",
   "id": "308c593c",
   "metadata": {},
   "source": [
    "# search"
   ]
  },
  {
   "cell_type": "code",
   "execution_count": 13,
   "id": "d92b6c40",
   "metadata": {},
   "outputs": [
    {
     "name": "stdout",
     "output_type": "stream",
     "text": [
      "(array([1, 5, 8], dtype=int64),)\n",
      "(array([1, 3, 5, 7, 8], dtype=int64),)\n"
     ]
    }
   ],
   "source": [
    "var=np.array([1,2,3,4,5,2,7,8,2])\n",
    "\n",
    "c=np.where(var==2)\n",
    "print(c)\n",
    "c1=np.where((var%2)==0)\n",
    "print(c1)"
   ]
  },
  {
   "cell_type": "code",
   "execution_count": 18,
   "id": "bfc2deeb",
   "metadata": {},
   "outputs": [
    {
     "name": "stdout",
     "output_type": "stream",
     "text": [
      "[4 4 5]\n"
     ]
    }
   ],
   "source": [
    "var=np.array([1,2,3,4,6,7,8,9,10])#sorted array lagbe\n",
    "\n",
    "c=np.searchsorted(var,[5,6,7],side=\"left\")\n",
    "print(c)"
   ]
  },
  {
   "cell_type": "markdown",
   "id": "901e3ed5",
   "metadata": {},
   "source": [
    "# sort"
   ]
  },
  {
   "cell_type": "code",
   "execution_count": 20,
   "id": "fed09783",
   "metadata": {},
   "outputs": [
    {
     "name": "stdout",
     "output_type": "stream",
     "text": [
      "[0 1 2 3 5 8 9]\n"
     ]
    }
   ],
   "source": [
    "var=np.array([1,2,5,8,3,0,9])\n",
    "print(np.sort(var))"
   ]
  },
  {
   "cell_type": "code",
   "execution_count": 21,
   "id": "77c6c4a3",
   "metadata": {},
   "outputs": [
    {
     "name": "stdout",
     "output_type": "stream",
     "text": [
      "[[1 5 8]\n",
      " [4 6 7]\n",
      " [4 7 8]]\n"
     ]
    }
   ],
   "source": [
    "var=np.array([[1,8,5],[4,7,6],[7,8,4]])\n",
    "print(np.sort(var))"
   ]
  },
  {
   "cell_type": "code",
   "execution_count": 22,
   "id": "a246e7d2",
   "metadata": {},
   "outputs": [
    {
     "name": "stdout",
     "output_type": "stream",
     "text": [
      "['a' 'd' 'r']\n"
     ]
    }
   ],
   "source": [
    "#filter array\n",
    "var=np.array([\"a\",\"s\",\"d\",\"r\"])\n",
    "f=[True,False,True,True]\n",
    "n=var[f]\n",
    "print(n)"
   ]
  },
  {
   "cell_type": "code",
   "execution_count": 23,
   "id": "a61bff9c",
   "metadata": {},
   "outputs": [
    {
     "name": "stdout",
     "output_type": "stream",
     "text": [
      "[1 5 2 3 0 9 8]\n"
     ]
    }
   ],
   "source": [
    "#suffle\n",
    "var=np.array([1,2,5,8,3,0,9])\n",
    "np.random.shuffle(var)\n",
    "print(var)"
   ]
  },
  {
   "cell_type": "code",
   "execution_count": 27,
   "id": "48b344ef",
   "metadata": {},
   "outputs": [
    {
     "name": "stdout",
     "output_type": "stream",
     "text": [
      "(array([0, 1, 2, 3, 4, 5, 8, 9]), array([5, 0, 1, 4, 8, 2, 3, 6], dtype=int64), array([2, 2, 2, 1, 1, 2, 1, 1], dtype=int64))\n"
     ]
    }
   ],
   "source": [
    "var=np.array([1,2,5,8,3,0,9,0,4,5,2,1])\n",
    "cx=np.unique(var,return_index=True,return_counts=True)\n",
    "print(cx)"
   ]
  },
  {
   "cell_type": "code",
   "execution_count": 37,
   "id": "70a02b6b",
   "metadata": {},
   "outputs": [
    {
     "name": "stdout",
     "output_type": "stream",
     "text": [
      "[[1 2]\n",
      " [5 8]\n",
      " [3 0]]\n",
      "\n",
      "[1 5 3 2 8 0]\n",
      "ravel:  [1 2 5 8 3 0]\n"
     ]
    }
   ],
   "source": [
    "#resize\n",
    "var=np.array([1,2,5,8,3,0,9])\n",
    "x=np.resize(var,(3,2))\n",
    "print(x)\n",
    "print()\n",
    "print(x.flatten(order=\"F\"))#c f k a order daoa jai .bby default c thake\n",
    "print(\"ravel: \",np.ravel(x,order=\"K\"))#same"
   ]
  },
  {
   "cell_type": "markdown",
   "id": "a7254326",
   "metadata": {},
   "source": [
    "# Insert"
   ]
  },
  {
   "cell_type": "code",
   "execution_count": 39,
   "id": "1a31407b",
   "metadata": {},
   "outputs": [
    {
     "name": "stdout",
     "output_type": "stream",
     "text": [
      "[ 1  2 40  5  8  3  0  9]\n",
      "[1 2 4 5 8 4 3 0 9]\n"
     ]
    }
   ],
   "source": [
    "var=np.array([1,2,5,8,3,0,9])\n",
    "x=np.insert(var,2,40)\n",
    "x1=np.insert(var,(2,4),4.9)\n",
    "print(x)\n",
    "print(x1)"
   ]
  },
  {
   "cell_type": "code",
   "execution_count": 44,
   "id": "08516f1f",
   "metadata": {},
   "outputs": [
    {
     "name": "stdout",
     "output_type": "stream",
     "text": [
      "[[1 8 6 5]\n",
      " [4 7 6 6]\n",
      " [7 8 6 4]]\n",
      "[[ 1  8 22  5]\n",
      " [ 4  7 23  6]\n",
      " [ 7  8 24  4]]\n"
     ]
    }
   ],
   "source": [
    "var=np.array([[1,8,5],[4,7,6],[7,8,4]])\n",
    "v1=np.insert(var,2,6,axis=1)\n",
    "print(v1)\n",
    "v2=np.insert(var,2,[22,23,24],axis=1)#3 value e dite hobe\n",
    "print(v2)"
   ]
  },
  {
   "cell_type": "code",
   "execution_count": 45,
   "id": "10a84ca7",
   "metadata": {},
   "outputs": [
    {
     "name": "stdout",
     "output_type": "stream",
     "text": [
      "[1.  2.  5.  8.  3.  0.  9.  6.5]\n"
     ]
    }
   ],
   "source": [
    "var=np.array([1,2,5,8,3,0,9])\n",
    "x=np.append(var,6.5)\n",
    "print(x)"
   ]
  },
  {
   "cell_type": "code",
   "execution_count": 49,
   "id": "581d302a",
   "metadata": {},
   "outputs": [
    {
     "name": "stdout",
     "output_type": "stream",
     "text": [
      "[[ 1  8  5]\n",
      " [ 4  7  6]\n",
      " [ 7  8  4]\n",
      " [45 46 67]]\n"
     ]
    }
   ],
   "source": [
    "var=np.array([[1,8,5],[4,7,6],[7,8,4]])\n",
    "v1=np.append(var,[[45,46,67]],axis=0)\n",
    "print(v1)"
   ]
  },
  {
   "cell_type": "code",
   "execution_count": 50,
   "id": "f22b2ca3",
   "metadata": {},
   "outputs": [
    {
     "name": "stdout",
     "output_type": "stream",
     "text": [
      "[1 2 8 3 0 9]\n"
     ]
    }
   ],
   "source": [
    "#Delete\n",
    "var=np.array([1,2,5,8,3,0,9])\n",
    "x=np.delete (var,2)\n",
    "print(x)"
   ]
  },
  {
   "cell_type": "code",
   "execution_count": null,
   "id": "a513fb97",
   "metadata": {},
   "outputs": [],
   "source": []
  }
 ],
 "metadata": {
  "kernelspec": {
   "display_name": "Python 3 (ipykernel)",
   "language": "python",
   "name": "python3"
  },
  "language_info": {
   "codemirror_mode": {
    "name": "ipython",
    "version": 3
   },
   "file_extension": ".py",
   "mimetype": "text/x-python",
   "name": "python",
   "nbconvert_exporter": "python",
   "pygments_lexer": "ipython3",
   "version": "3.12.3"
  }
 },
 "nbformat": 4,
 "nbformat_minor": 5
}
